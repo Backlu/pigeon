{
 "cells": [
  {
   "cell_type": "markdown",
   "metadata": {},
   "source": [
    "# Frame Check - Jay\n",
    "Copyright © 2020 AA"
   ]
  },
  {
   "cell_type": "markdown",
   "metadata": {},
   "source": [
    "### **不要選到別人的資料夾, 避免同時標注同一份檔案**"
   ]
  },
  {
   "cell_type": "code",
   "execution_count": 8,
   "metadata": {},
   "outputs": [],
   "source": [
    "import os, shutil, joblib, datetime, time, glob\n",
    "from pathlib import Path\n",
    "from pigeon import annotate\n",
    "from ipyfilechooser import FileChooser\n",
    "from IPython.display import display, Image\n",
    "import pandas as pd\n",
    "def checkandmkdir(fpath):\n",
    "    dirname = os.path.dirname(fpath)\n",
    "    os.makedirs(dirname, exist_ok=True)\n"
   ]
  },
  {
   "cell_type": "markdown",
   "metadata": {},
   "source": [
    "## 當前Label狀態"
   ]
  },
  {
   "cell_type": "code",
   "execution_count": 9,
   "metadata": {
    "scrolled": false
   },
   "outputs": [
    {
     "name": "stdout",
     "output_type": "stream",
     "text": [
      "== No label ==:\n",
      "\t /mnt/hdd/TrData/autolabel_1102_ppen/N01-3F 05L F68-05 78.30 R11.12_bbox\n",
      "\t /mnt/hdd/TrData/autolabel_1106_ppen_1/N01-3F 05L F68-05 78.30 R11.12_bbox\n",
      "\t /mnt/hdd/TrData/autolabel_1106_ppen_2/N01-3F 05L F68-05 78.30 R11.12_bbox\n"
     ]
    }
   ],
   "source": [
    "haslabellist=[]\n",
    "nolabellist=[]\n",
    "\n",
    "for f in glob.glob('/mnt/hdd/TrData/autolabel*/*_bbox'):\n",
    "    if not os.path.isdir(f):\n",
    "        continue\n",
    "        \n",
    "    flag = os.path.join(f,'has_review.flag')\n",
    "    if os.path.exists(flag):\n",
    "        haslabellist.append(f)\n",
    "    else:\n",
    "        nolabellist.append(f)\n",
    "#print('== Has label ==:')\n",
    "#for f in sorted(haslabellist):\n",
    "#    print('\\t',f)\n",
    "    \n",
    "print('== No label ==:')\n",
    "for f in sorted(nolabellist):\n",
    "    print('\\t',f)    "
   ]
  },
  {
   "cell_type": "markdown",
   "metadata": {},
   "source": [
    "## 選擇資料夾"
   ]
  },
  {
   "cell_type": "code",
   "execution_count": 10,
   "metadata": {},
   "outputs": [
    {
     "data": {
      "application/vnd.jupyter.widget-view+json": {
       "model_id": "3d6c9d49b0814d4c8c4fd7afbab17753",
       "version_major": 2,
       "version_minor": 0
      },
      "text/plain": [
       "FileChooser(path='/mnt/hdd/TrData', filename='', show_hidden='True')"
      ]
     },
     "metadata": {},
     "output_type": "display_data"
    }
   ],
   "source": [
    "root='/mnt/hdd/TrData'\n",
    "fc = FileChooser(root)\n",
    "fc.show_hidden = True\n",
    "fc.use_dir_icons = True\n",
    "display(fc)"
   ]
  },
  {
   "cell_type": "code",
   "execution_count": 11,
   "metadata": {},
   "outputs": [
    {
     "name": "stdout",
     "output_type": "stream",
     "text": [
      "是否標註autolabel_1102_ppen/N01-3F 05L F68-05 78.30 R11.12_bbox的資料 Y/NY\n"
     ]
    }
   ],
   "source": [
    "assert fc.selected_path, 'Please Select a folder'\n",
    "assert 'bbox' in fc.selected_path, '選錯資料夾, 請選資料夾名稱有bbox的'\n",
    "folderpath = fc.selected_path\n",
    "IMG_DATE = '/'.join(folderpath.split('/')[-2:]) #os.path.basename(folderpath)#'0430'\n",
    "\n",
    "time.sleep(1)\n",
    "#確認Label ＯＫ\n",
    "conf = input(f'是否標註{IMG_DATE}的資料 Y/N')\n",
    "if conf=='Y':\n",
    "    pass\n",
    "else:\n",
    "    raise BaseException(\"取消標註\")\n",
    "\n",
    "\n",
    "flagpath = os.path.join(folderpath, f'has_review.flag')\n",
    "assert os.path.exists(root), f'{root} Not Exist'\n",
    "assert not os.path.exists(flagpath), 'Flag存在, 這份資料標注過了'\n",
    "\n"
   ]
  },
  {
   "cell_type": "markdown",
   "metadata": {},
   "source": [
    "## 標註物件類別"
   ]
  },
  {
   "cell_type": "code",
   "execution_count": 12,
   "metadata": {
    "scrolled": false
   },
   "outputs": [
    {
     "name": "stdout",
     "output_type": "stream",
     "text": [
      "==== HAND ====\n"
     ]
    },
    {
     "data": {
      "application/vnd.jupyter.widget-view+json": {
       "model_id": "39055b2f0ab64e5d806fe4bbf048bb7b",
       "version_major": 2,
       "version_minor": 0
      },
      "text/plain": [
       "HTML(value='0 examples annotated, 126 examples left')"
      ]
     },
     "metadata": {},
     "output_type": "display_data"
    },
    {
     "data": {
      "application/vnd.jupyter.widget-view+json": {
       "model_id": "0199df01956941fe975aa747c434abb3",
       "version_major": 2,
       "version_minor": 0
      },
      "text/plain": [
       "HBox(children=(Button(description='OK', style=ButtonStyle()), Button(description='NG', style=ButtonStyle()), B…"
      ]
     },
     "metadata": {},
     "output_type": "display_data"
    },
    {
     "data": {
      "application/vnd.jupyter.widget-view+json": {
       "model_id": "4e474279dafb4a2898dff1e624e13207",
       "version_major": 2,
       "version_minor": 0
      },
      "text/plain": [
       "Output()"
      ]
     },
     "metadata": {},
     "output_type": "display_data"
    }
   ],
   "source": [
    "#注意! 重新執行會清空已標註檔案\n",
    "\n",
    "#image path\n",
    "img_dict = {}\n",
    "label_dict ={}\n",
    "klist = os.listdir(folderpath)\n",
    "klist = list(filter(lambda k: os.path.isdir(os.path.join(folderpath,k)) ,klist))\n",
    "for k in klist:\n",
    "    #os.path.isdir(os.path.join(folderpath,k[0]))\n",
    "    img_dict[k]= glob.glob(os.path.join(folderpath, f'{k}/*.jpg'))\n",
    "for k in klist:\n",
    "    print('====',f'{k}','====')\n",
    "    #labeling\n",
    "    imgs = img_dict[k]\n",
    "    annotations = annotate(\n",
    "      imgs,\n",
    "      options=['OK','NG'],\n",
    "      display_fn=lambda filename: display(Image(filename))\n",
    "    )\n",
    "    label_dict[k]=annotations"
   ]
  },
  {
   "cell_type": "markdown",
   "metadata": {},
   "source": [
    "## 標注完畢, 刪除NG影像\n",
    "- 讀取train_raw.txt\n",
    "- 刪去不要的數據\n",
    "- 儲存train.txt"
   ]
  },
  {
   "cell_type": "code",
   "execution_count": null,
   "metadata": {},
   "outputs": [],
   "source": [
    "print(f'確認資料夾: {IMG_DATE}')\n",
    "print(f'確認影像: {folderpath}')\n",
    "imgqty = sum(list(map(lambda x: len(x), list(img_dict.values()))))\n",
    "labelqty = sum(list(map(lambda x: len(x), list(label_dict.values()))))\n",
    "print(f'影像數量: {imgqty}')\n",
    "print(f'標註數量: {labelqty}')\n",
    "\n",
    "nglist = []\n",
    "for k in list(label_dict.values()):\n",
    "    for path, ret in k.values():\n",
    "        if ret =='NG':\n",
    "            newpath = path.split('/')\n",
    "            newpath[5] = newpath[5][:-5]\n",
    "            newpath_str = '/'.join(newpath)        \n",
    "            nglist.append(newpath_str)\n",
    "        pass\n",
    "    pass\n",
    "    \n",
    "print(f'刪除數量: {len(nglist)}')\n",
    "\n",
    "time.sleep(1)\n",
    "#確認Label ＯＫ\n",
    "conf = input('確認？Y/N')\n",
    "print(conf)\n",
    "if conf=='Y':\n",
    "    print('Save Label')\n",
    "    joblib.dump(label_dict, os.path.join(folderpath, f'label_dict.pkl'))\n",
    "    flag = open(flagpath, 'a')\n",
    "    dt= datetime.datetime.today()  \n",
    "    dt_str = f'{dt:%Y%m%d%H}'     \n",
    "    flag.write(dt_str) \n",
    "    flag.write('\\n')\n",
    "    flag.close()\n",
    "else:\n",
    "    print('[Warning] !!! Cancel... !!!')\n",
    "    \n",
    "    \n",
    "#寫入train.txt\n",
    "##FIXME!!! -> 每次都複寫train.txt, 所以只會保留一個資料夾的過濾資料, 其他都會被覆寫\n",
    "if conf=='Y':\n",
    "    print('Confirm and save')\n",
    "    trpath = Path(folderpath)\n",
    "    \n",
    "    if os.path.exists(os.path.join(trpath.parent,'train.txt')):\n",
    "        train_df = pd.read_csv(os.path.join(trpath.parent,'train.txt'), header=None)\n",
    "    else:\n",
    "        train_df = pd.read_csv(os.path.join(trpath.parent,'train_raw.txt'), header=None)\n",
    "        \n",
    "    trainNew_df = train_df[~train_df[0].isin(nglist)]\n",
    "    trainNew_df.to_csv(os.path.join(trpath.parent,'train.txt'), index=False, header=None)\n",
    "    print(f'刪除數量: {len(nglist)}')\n",
    "    print('原始數量:', train_df.shape, 'new qty:',trainNew_df.shape)\n",
    "else:\n",
    "    print('Not confirm yet')\n",
    "        "
   ]
  },
  {
   "cell_type": "code",
   "execution_count": null,
   "metadata": {},
   "outputs": [],
   "source": []
  },
  {
   "cell_type": "code",
   "execution_count": null,
   "metadata": {},
   "outputs": [],
   "source": []
  }
 ],
 "metadata": {
  "kernelspec": {
   "display_name": "Python 3",
   "language": "python",
   "name": "python3"
  },
  "language_info": {
   "codemirror_mode": {
    "name": "ipython",
    "version": 3
   },
   "file_extension": ".py",
   "mimetype": "text/x-python",
   "name": "python",
   "nbconvert_exporter": "python",
   "pygments_lexer": "ipython3",
   "version": "3.6.9"
  }
 },
 "nbformat": 4,
 "nbformat_minor": 2
}
